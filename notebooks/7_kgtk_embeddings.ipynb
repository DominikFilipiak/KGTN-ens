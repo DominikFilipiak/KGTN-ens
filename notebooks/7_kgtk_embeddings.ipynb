{
 "cells": [
  {
   "cell_type": "code",
   "execution_count": 4,
   "metadata": {},
   "outputs": [
    {
     "name": "stdout",
     "output_type": "stream",
     "text": [
      "Collecting rltk\n",
      "  Using cached rltk-2.0.0a20-py3-none-any.whl (81 kB)\n",
      "Requirement already satisfied: matplotlib>=2.0.0 in /usr/local/lib/python3.6/dist-packages (from rltk) (3.3.4)\n",
      "Requirement already satisfied: pyrallel.lib in /usr/local/lib/python3.6/dist-packages (from rltk) (0.0.10)\n",
      "Requirement already satisfied: numpy>=1.17.0 in /usr/local/lib/python3.6/dist-packages (from rltk) (1.18.5)\n",
      "  Using cached rltk-2.0.0a19-py3-none-any.whl (81 kB)\n",
      "Requirement already satisfied: matplotlib>=2.0.0 in /usr/local/lib/python3.6/dist-packages (from rltk) (3.3.4)\n",
      "Requirement already satisfied: pyrallel.lib in /usr/local/lib/python3.6/dist-packages (from rltk) (0.0.10)\n",
      "Requirement already satisfied: numpy>=1.17.0 in /usr/local/lib/python3.6/dist-packages (from rltk) (1.18.5)\n",
      "  Using cached rltk-2.0.0a18-py3-none-any.whl (81 kB)\n",
      "Requirement already satisfied: matplotlib>=2.0.0 in /usr/local/lib/python3.6/dist-packages (from rltk) (3.3.4)\n",
      "Requirement already satisfied: pyrallel.lib in /usr/local/lib/python3.6/dist-packages (from rltk) (0.0.10)\n",
      "Requirement already satisfied: numpy>=1.17.0 in /usr/local/lib/python3.6/dist-packages (from rltk) (1.18.5)\n",
      "  Using cached rltk-2.0.0a17-py3-none-any.whl (75 kB)\n",
      "Requirement already satisfied: matplotlib>=2.0.0 in /usr/local/lib/python3.6/dist-packages (from rltk) (3.3.4)\n",
      "Requirement already satisfied: pyrallel.lib in /usr/local/lib/python3.6/dist-packages (from rltk) (0.0.10)\n",
      "Requirement already satisfied: numpy>=1.17.0 in /usr/local/lib/python3.6/dist-packages (from rltk) (1.18.5)\n",
      "  Using cached rltk-2.0.0a16.tar.gz (51 kB)\n",
      "\u001b[31m    ERROR: Command errored out with exit status 1:\n",
      "     command: /usr/bin/python3 -c 'import sys, setuptools, tokenize; sys.argv[0] = '\"'\"'/tmp/pip-install-oazh2je_/rltk_aa5d64298de441ae969e2853688d9d66/setup.py'\"'\"'; __file__='\"'\"'/tmp/pip-install-oazh2je_/rltk_aa5d64298de441ae969e2853688d9d66/setup.py'\"'\"';f=getattr(tokenize, '\"'\"'open'\"'\"', open)(__file__);code=f.read().replace('\"'\"'\\r\\n'\"'\"', '\"'\"'\\n'\"'\"');f.close();exec(compile(code, __file__, '\"'\"'exec'\"'\"'))' egg_info --egg-base /tmp/pip-pip-egg-info-7hk0qv3m\n",
      "         cwd: /tmp/pip-install-oazh2je_/rltk_aa5d64298de441ae969e2853688d9d66/\n",
      "    Complete output (9 lines):\n",
      "    Traceback (most recent call last):\n",
      "      File \"<string>\", line 1, in <module>\n",
      "      File \"/tmp/pip-install-oazh2je_/rltk_aa5d64298de441ae969e2853688d9d66/setup.py\", line 3, in <module>\n",
      "        from rltk import __version__\n",
      "      File \"/tmp/pip-install-oazh2je_/rltk_aa5d64298de441ae969e2853688d9d66/rltk/__init__.py\", line 9, in <module>\n",
      "        from rltk.tokenizer import *\n",
      "      File \"/tmp/pip-install-oazh2je_/rltk_aa5d64298de441ae969e2853688d9d66/rltk/tokenizer/__init__.py\", line 3, in <module>\n",
      "        from rltk.tokenizer.crf_tokenizer import crf_tokenizer as dig_tokenizer\n",
      "    ModuleNotFoundError: No module named 'rltk.tokenizer.crf_tokenizer'\n",
      "    ----------------------------------------\u001b[0m\n",
      "\u001b[31mERROR: Command errored out with exit status 1: python setup.py egg_info Check the logs for full command output.\u001b[0m\n",
      "\u001b[33mWARNING: You are using pip version 20.3.1; however, version 21.3.1 is available.\n",
      "You should consider upgrading via the '/usr/bin/python3 -m pip install --upgrade pip' command.\u001b[0m\n"
     ]
    }
   ],
   "source": [
    "!pip install rltk \n",
    "# !pip install pyrallel kgtk pandas torchbiggraph gensim"
   ]
  },
  {
   "cell_type": "code",
   "execution_count": 2,
   "metadata": {},
   "outputs": [
    {
     "ename": "ModuleNotFoundError",
     "evalue": "No module named 'kgtk'",
     "output_type": "error",
     "traceback": [
      "\u001b[0;31m---------------------------------------------------------------------------\u001b[0m",
      "\u001b[0;31mModuleNotFoundError\u001b[0m                       Traceback (most recent call last)",
      "\u001b[0;32m<ipython-input-2-94758f968235>\u001b[0m in \u001b[0;36m<module>\u001b[0;34m\u001b[0m\n\u001b[1;32m      1\u001b[0m \u001b[0;32mimport\u001b[0m \u001b[0mos\u001b[0m\u001b[0;34m\u001b[0m\u001b[0;34m\u001b[0m\u001b[0m\n\u001b[0;32m----> 2\u001b[0;31m \u001b[0;32mfrom\u001b[0m \u001b[0mkgtk\u001b[0m\u001b[0;34m.\u001b[0m\u001b[0mconfigure_kgtk_notebooks\u001b[0m \u001b[0;32mimport\u001b[0m \u001b[0mConfigureKGTK\u001b[0m\u001b[0;34m\u001b[0m\u001b[0;34m\u001b[0m\u001b[0m\n\u001b[0m\u001b[1;32m      3\u001b[0m \u001b[0;32mfrom\u001b[0m \u001b[0mkgtk\u001b[0m\u001b[0;34m.\u001b[0m\u001b[0mfunctions\u001b[0m \u001b[0;32mimport\u001b[0m \u001b[0mkgtk\u001b[0m\u001b[0;34m,\u001b[0m \u001b[0mkypher\u001b[0m\u001b[0;34m\u001b[0m\u001b[0;34m\u001b[0m\u001b[0m\n\u001b[1;32m      4\u001b[0m \u001b[0;32mfrom\u001b[0m \u001b[0mgensim\u001b[0m\u001b[0;34m.\u001b[0m\u001b[0mmodels\u001b[0m \u001b[0;32mimport\u001b[0m \u001b[0mKeyedVectors\u001b[0m\u001b[0;34m\u001b[0m\u001b[0;34m\u001b[0m\u001b[0m\n\u001b[1;32m      5\u001b[0m \u001b[0;32mimport\u001b[0m \u001b[0mtempfile\u001b[0m\u001b[0;34m\u001b[0m\u001b[0;34m\u001b[0m\u001b[0m\n",
      "\u001b[0;31mModuleNotFoundError\u001b[0m: No module named 'kgtk'"
     ]
    }
   ],
   "source": [
    "import os\n",
    "from kgtk.configure_kgtk_notebooks import ConfigureKGTK\n",
    "from kgtk.functions import kgtk, kypher\n",
    "from gensim.models import KeyedVectors\n",
    "import tempfile\n",
    "import pandas as pd\n",
    "import numpy as np\n",
    "import h5py, torch\n",
    "from torchbiggraph.model import ComplexDiagonalDynamicOperator, DotComparator, CosComparator\n",
    "import json"
   ]
  },
  {
   "cell_type": "code",
   "execution_count": null,
   "metadata": {},
   "outputs": [],
   "source": []
  }
 ],
 "metadata": {
  "kernelspec": {
   "display_name": "Python 3",
   "language": "python",
   "name": "python3"
  },
  "orig_nbformat": 4
 },
 "nbformat": 4,
 "nbformat_minor": 2
}

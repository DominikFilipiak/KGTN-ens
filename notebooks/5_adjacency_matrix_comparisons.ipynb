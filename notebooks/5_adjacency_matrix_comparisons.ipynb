{
 "cells": [
  {
   "cell_type": "markdown",
   "metadata": {},
   "source": [
    "# Analysis of adjancency matrices"
   ]
  },
  {
   "cell_type": "code",
   "execution_count": 2,
   "metadata": {},
   "outputs": [
    {
     "name": "stdout",
     "output_type": "stream",
     "text": [
      "Defaulting to user installation because normal site-packages is not writeable\n",
      "Requirement already satisfied: numpy in /Users/dominik.filipiak/.local/lib/python3.9/site-packages (1.20.0)\n",
      "Collecting numpy\n",
      "  Using cached numpy-1.22.4-cp39-cp39-macosx_10_15_x86_64.whl (17.7 MB)\n",
      "Installing collected packages: numpy\n",
      "  Attempting uninstall: numpy\n",
      "    Found existing installation: numpy 1.20.0\n",
      "    Uninstalling numpy-1.20.0:\n",
      "      Successfully uninstalled numpy-1.20.0\n",
      "\u001b[31mERROR: pip's dependency resolver does not currently take into account all the packages that are installed. This behaviour is the source of the following dependency conflicts.\n",
      "numba 0.54.1 requires numpy<1.21,>=1.17, but you have numpy 1.22.4 which is incompatible.\u001b[0m\n",
      "Successfully installed numpy-1.22.4\n"
     ]
    }
   ],
   "source": [
    "# ! pip install numpy==1.20.0\n",
    "! pip install --upgrade numpy"
   ]
  },
  {
   "cell_type": "code",
   "execution_count": 3,
   "metadata": {},
   "outputs": [],
   "source": [
    "%matplotlib inline\n",
    "import numpy as np\n",
    "import json\n",
    "import matplotlib.pyplot as plt\n",
    "from skbio.stats.distance import mantel\n",
    "from itertools import combinations\n",
    "import tikzplotlib\n",
    "\n",
    "plt.style.use('default')\n",
    "\n",
    "BASE_DIR = '/Users/dominik.filipiak/Documents/backup_laptop_uibk/repositories/publikacje/PUB-2021-OneShotKG'\n",
    "PROJECT_DIR = f'{BASE_DIR}/KGTN2'\n",
    "FIGURES_DIR = f'{BASE_DIR}/figures'"
   ]
  },
  {
   "cell_type": "markdown",
   "metadata": {},
   "source": [
    "## Adjacency matrices as-is"
   ]
  },
  {
   "cell_type": "code",
   "execution_count": 4,
   "metadata": {},
   "outputs": [],
   "source": [
    "distances_hierarchy = np.load(f'{PROJECT_DIR}/KnowledgeGraphMatrix/HierarchyGraph.npy')\n",
    "distances_glove = np.load(f'{PROJECT_DIR}/KnowledgeGraphMatrix/SemanticGraph.npy')\n",
    "distances_wikidata = np.load(f'{PROJECT_DIR}/KnowledgeGraphMatrix/WikidataGraph.npy').astype(np.float64)\n",
    "\n",
    "distances_dict = {\n",
    "    'hierachy': distances_hierarchy,\n",
    "    'glove': distances_glove,\n",
    "    'wiki': distances_wikidata,\n",
    "}"
   ]
  },
  {
   "cell_type": "code",
   "execution_count": 5,
   "metadata": {},
   "outputs": [
    {
     "data": {
      "text/plain": [
       "dtype('float64')"
      ]
     },
     "execution_count": 5,
     "metadata": {},
     "output_type": "execute_result"
    }
   ],
   "source": [
    "distances_wikidata.dtype"
   ]
  },
  {
   "cell_type": "markdown",
   "metadata": {},
   "source": [
    "Basic descriptive statistics"
   ]
  },
  {
   "cell_type": "code",
   "execution_count": 6,
   "metadata": {},
   "outputs": [
    {
     "name": "stdout",
     "output_type": "stream",
     "text": [
      " & Min & Avg & Max & Std \\\\\n",
      "hierachy   & 0.00 & 9.76 & 10.00 & 1.20 \\\\\n",
      "glove      & 0.00 & 8.52 & 14.31 & 1.29 \\\\\n",
      "wiki       & 0.00 & 5.82 & 12.73 & 1.32 \\\\\n"
     ]
    }
   ],
   "source": [
    "print(f\" & Min & Avg & Max & Std \\\\\\\\\")\n",
    "for k, v in distances_dict.items():\n",
    "    print(f\"{k:10} & {v.min():3.2f} & {v.mean():3.2f} & {v.max():3.2f} & {v.std():3.2f} \\\\\\\\\")"
   ]
  },
  {
   "cell_type": "markdown",
   "metadata": {},
   "source": [
    "Plots of lower triangles of distances matrices (excluding zeros) - in nominal and log scale."
   ]
  },
  {
   "cell_type": "code",
   "execution_count": 64,
   "metadata": {},
   "outputs": [
    {
     "data": {
      "image/png": "[encoded data removed]",
      "text/plain": [
       "<Figure size 400x450 with 6 Axes>"
      ]
     },
     "metadata": {},
     "output_type": "display_data"
    }
   ],
   "source": [
    "def plot_distinance_distribution(ax, k, v, log_scale=False):\n",
    "    lower_triangle_flattened = np.tril(v, k=-1).flatten()\n",
    "    ax.hist(lower_triangle_flattened[lower_triangle_flattened.nonzero()[0]], bins=100)\n",
    "    if log_scale:\n",
    "        ax.set_yscale('log')\n",
    "        ax.set_ylim(1, 1e6)\n",
    "        # ax.set_title(f\"(log scale)\") \n",
    "    else:\n",
    "        # ax.set_title(f\"Distance matrix: {k}\")\n",
    "        ax.set_ylabel(k)\n",
    "        # ax.set_ylim(0, 1e5)\n",
    "\n",
    "fig, axs = plt.subplots(3, 2, figsize=(4, 4.5))\n",
    "\n",
    "for i, (k, v) in enumerate(distances_dict.items()):\n",
    "    plot_distinance_distribution(axs[i, 0], k, v, log_scale=False)\n",
    "    plot_distinance_distribution(axs[i, 1], k, v, log_scale=True)\n",
    "\n",
    "tikzplotlib.save(f\"{FIGURES_DIR}/dist_raw.tex\", axis_height='4cm', axis_width='4.5cm')"
   ]
  },
  {
   "cell_type": "markdown",
   "metadata": {},
   "source": [
    "Mantel test for distance matrices correlations. Mantel test requires zeros on diagonal."
   ]
  },
  {
   "cell_type": "code",
   "execution_count": 65,
   "metadata": {},
   "outputs": [
    {
     "name": "stdout",
     "output_type": "stream",
     "text": [
      "Non-zero count in hierachy: 999000, on diag:    0, total 1000000\n",
      "Non-zero count in glove   : 998996, on diag:    0, total 1000000\n",
      "Non-zero count in wiki    : 999000, on diag:    0, total 1000000\n"
     ]
    }
   ],
   "source": [
    "for k, v in distances_dict.items():\n",
    "    print(f'Non-zero count in {k:8}: {np.count_nonzero(v)}, on diag: {np.count_nonzero(np.diagonal(v)):4}, total {v.size}')"
   ]
  },
  {
   "cell_type": "code",
   "execution_count": 66,
   "metadata": {},
   "outputs": [
    {
     "name": "stdout",
     "output_type": "stream",
     "text": [
      "KG$_{1}$ & KG$_{1}$ & correlation & p-value & n \\\\\n",
      "hierachy   & glove      & 0.14 & 0.001 & 1000 \\\\\n",
      "hierachy   & wiki       & 0.13 & 0.001 & 1000 \\\\\n",
      "glove      & wiki       & 0.16 & 0.001 & 1000 \\\\\n"
     ]
    }
   ],
   "source": [
    "print(\"KG$_{1}$ & KG$_{1}$ & correlation & p-value & n \\\\\\\\\")\n",
    "for x, y in list(combinations(distances_dict.items(), 2)):\n",
    "    corr, p, n = mantel(x[1], y[1])\n",
    "    print(f\"{x[0]:10} & {y[0]:10} & {corr:.2f} & {p} & {n} \\\\\\\\\")"
   ]
  },
  {
   "cell_type": "markdown",
   "metadata": {},
   "source": [
    "## Transformations from `utils.py`"
   ]
  },
  {
   "cell_type": "code",
   "execution_count": 67,
   "metadata": {},
   "outputs": [],
   "source": [
    "NUM_VALID=196+300+311\n",
    "coefficient_glove = .4\n",
    "coefficient_hierarchy = .5\n",
    "\n",
    "kg_ratio = 100\n",
    "use_all_base = True\n",
    "label_idx_file = f\"{PROJECT_DIR}/DataSplit/KGTN/label_idx.json\"\n",
    "testsetup = 1\n",
    "\n",
    "def get_ignore_ind(testsetup = 1, use_all_base = use_all_base, label_idx_file = label_idx_file):\n",
    "    with open(label_idx_file, 'r') as f:\n",
    "        lowshotmeta = json.load(f)\n",
    "    novel_classes = lowshotmeta['novel_classes_1']\n",
    "    novel2_classes = lowshotmeta['novel_classes_2']\n",
    "    base_classes = lowshotmeta['base_classes_1']\n",
    "    base2_classes = lowshotmeta['base_classes_2']\n",
    "    if testsetup:\n",
    "        if use_all_base:\n",
    "            ignore_ind = novel_classes \n",
    "            valid_nodes = novel2_classes + base2_classes + base_classes\n",
    "        else:\n",
    "            ignore_ind = novel_classes + base_classes\n",
    "            valid_nodes = novel2_classes + base2_classes\n",
    "    else:\n",
    "        if use_all_base:\n",
    "            ignore_ind = novel2_classes\n",
    "            valid_nodes = novel_classes + base2_classes + base_classes\n",
    "        else:\n",
    "            ignore_ind = novel2_classes + base2_classes\n",
    "            valid_nodes = novel_classes + base_classes\n",
    "    return ignore_ind, valid_nodes\n",
    "\n",
    "\n",
    "def process_semantic(mat, coefficient, kg_ratio):\n",
    "    ignore_ind, _ = get_ignore_ind()\n",
    "    num_classes = mat.shape[0]\n",
    "    mat[range(num_classes), range(num_classes)] = 999\n",
    "    min_mat = np.min(mat, 1) \n",
    "    mat = mat - min_mat.reshape(-1, 1) + 1\n",
    "\n",
    "    in_matrix = coefficient ** (mat - 1)\n",
    "    in_matrix[:, ignore_ind] = 0\n",
    "    in_matrix[ignore_ind, :] = 0\n",
    "    in_matrix[range(num_classes), range(num_classes)] = 2\n",
    "        \n",
    "    # in the ascent order\n",
    "    topk = int(NUM_VALID * kg_ratio / 100)\n",
    "    max_ = -np.sort(-in_matrix, 1)\n",
    "    edge = max_[:, topk].reshape(-1, 1)\n",
    "    in_matrix[in_matrix < edge] = 0\n",
    "\n",
    "    return in_matrix\n",
    "\n",
    "\n",
    "def process_wordnet(mat, coefficient, kg_ratio):\n",
    "    ignore_ind, _ = get_ignore_ind()\n",
    "    num_classes = mat.shape[0]\n",
    "    in_matrix = coefficient ** (mat - 1)\n",
    "    in_matrix[range(num_classes), range(num_classes)] = 2\n",
    "    in_matrix[ignore_ind, :] = 0\n",
    "    in_matrix[:, ignore_ind] = 0\n",
    "    # in the ascent order\n",
    "    topk = int(NUM_VALID * kg_ratio / 100)\n",
    "    max_ = -np.sort(-in_matrix, 1)\n",
    "    edge = max_[:, topk].reshape(-1, 1)\n",
    "    in_matrix[in_matrix < edge] = 0\n",
    "    return in_matrix\n",
    "\n",
    "distances_dict_processed = {\n",
    "    'hierachy': process_wordnet(np.copy(distances_hierarchy), coefficient=coefficient_hierarchy, kg_ratio=kg_ratio),\n",
    "    'glove': process_semantic(np.copy(distances_glove), coefficient=coefficient_glove, kg_ratio=kg_ratio),\n",
    "    'wiki': process_semantic(np.copy(distances_wikidata), coefficient=.32, kg_ratio=kg_ratio),\n",
    "}\n"
   ]
  },
  {
   "cell_type": "code",
   "execution_count": 68,
   "metadata": {},
   "outputs": [
    {
     "name": "stdout",
     "output_type": "stream",
     "text": [
      " & Min & Avg & Max & Std \\\\\n",
      "hierachy   & 0.00 & 0.01 & 2.00 & 0.07 \\\\\n",
      "glove      & 0.00 & 0.05 & 2.00 & 0.11 \\\\\n",
      "wiki       & 0.00 & 0.08 & 2.00 & 0.14 \\\\\n"
     ]
    }
   ],
   "source": [
    "print(f\" & Min & Avg & Max & Std \\\\\\\\\")\n",
    "for k, v in distances_dict_processed.items():\n",
    "    print(f\"{k:10} & {v.min():3.2f} & {v.mean():3.2f} & {v.max():3.2f} & {v.std():3.2f} \\\\\\\\\")"
   ]
  },
  {
   "cell_type": "markdown",
   "metadata": {},
   "source": [
    "With coefficient $=.32$, glove and wikidata distributions resemble themselves"
   ]
  },
  {
   "cell_type": "code",
   "execution_count": 69,
   "metadata": {},
   "outputs": [
    {
     "data": {
      "text/plain": [
       "233"
      ]
     },
     "execution_count": 69,
     "metadata": {},
     "output_type": "execute_result"
    }
   ],
   "source": [
    "# def plot_distinance_distribution(ax, k, v, log_scale=False):\n",
    "lll = np.tril(distances_dict_processed['wiki'], k=-1).flatten()\n",
    "lll_nz = lll[lll.nonzero()[0]]\n",
    "(np.log(lll_nz) == 0.).sum()\n",
    "# lll_nz\n",
    "# (np.log(lll) == 1.).sum()\n",
    "#     ax.hist(lower_triangle_flattened[lower_triangle_flattened.nonzero()[0]], bins=100)\n",
    "#     if log_scale:\n",
    "#         ax.set_yscale('log')\n",
    "#         ax.set_ylim(1, 1e6)\n",
    "#         ax.set_title(f\"(log scale)\") \n",
    "#     else:\n",
    "#         # ax.set_title(f\"Distance matrix: {k}\")\n",
    "#         ax.set_ylabel(k)\n",
    "#         # ax.set_ylim(0, 1e5)\n",
    "\n",
    "# fig, axs = plt.subplots(3, 2, figsize=(3, 4))\n"
   ]
  },
  {
   "cell_type": "code",
   "execution_count": 71,
   "metadata": {},
   "outputs": [
    {
     "data": {
      "image/png": "[encoded data removed]",
      "text/plain": [
       "<Figure size 300x400 with 6 Axes>"
      ]
     },
     "metadata": {},
     "output_type": "display_data"
    }
   ],
   "source": [
    "fig, axs = plt.subplots(3, 2, figsize=(3, 4))\n",
    "\n",
    "for i, (k, v) in enumerate(distances_dict_processed.items()):\n",
    "    plot_distinance_distribution(axs[i, 0], k, v, log_scale=False)\n",
    "    plot_distinance_distribution(axs[i, 1], k, v, log_scale=True)\n",
    "\n",
    "tikzplotlib.save(f\"{FIGURES_DIR}/dist_processed.tex\", axis_height='4cm', axis_width='4.5cm')"
   ]
  },
  {
   "cell_type": "markdown",
   "metadata": {},
   "source": [
    "There are non-zeros on diagonal, which won't go with Mantel test"
   ]
  },
  {
   "cell_type": "code",
   "execution_count": 68,
   "metadata": {},
   "outputs": [
    {
     "name": "stdout",
     "output_type": "stream",
     "text": [
      "Non-zero count in hierachy: 490000, on diag:  700, total 1000000\n",
      "Non-zero count in glove   : 490300, on diag: 1000, total 1000000\n",
      "Non-zero count in wiki    : 490300, on diag: 1000, total 1000000\n"
     ]
    }
   ],
   "source": [
    "for k, v in distances_dict_processed.items():\n",
    "    print(f'Non-zero count in {k:8}: {np.count_nonzero(v)}, on diag: {np.count_nonzero(np.diagonal(v)):4}, total {v.size}')"
   ]
  },
  {
   "cell_type": "markdown",
   "metadata": {},
   "source": []
  },
  {
   "cell_type": "markdown",
   "metadata": {},
   "source": [
    "Let's fill diagonal with zeros (is it allowed...?)\n",
    "\n",
    "We also copy upper traingle to lower as in [here](https://stackoverflow.com/questions/16444930/copy-upper-triangle-to-lower-triangle-in-a-python-matrix/42209263), since these matrices are not symmetric now"
   ]
  },
  {
   "cell_type": "code",
   "execution_count": 69,
   "metadata": {},
   "outputs": [
    {
     "name": "stdout",
     "output_type": "stream",
     "text": [
      "Non-zero count in hierachy: 489300, on diag:    0, total 1000000, symmetric True\n",
      "Non-zero count in glove   : 489300, on diag:    0, total 1000000, symmetric True\n",
      "Non-zero count in wiki    : 489300, on diag:    0, total 1000000, symmetric True\n"
     ]
    }
   ],
   "source": [
    "def fill_diagonal(copy, diagonal):\n",
    "    np.fill_diagonal(copy, diagonal)\n",
    "    return copy\n",
    "\n",
    "def check_symmetric(a, rtol=1e-05, atol=1e-08):\n",
    "    return np.allclose(a, a.T, rtol=rtol, atol=atol)\n",
    "\n",
    "def fill_diag_and_make_symmetric(source):\n",
    "    v = source.copy()\n",
    "    v = fill_diagonal(v, 0.)\n",
    "    i_lower = np.tril_indices(v.shape[0], -1)\n",
    "    v[i_lower] = v.T[i_lower]\n",
    "    return v\n",
    "\n",
    "distances_dict_processed_zeros_diag = {k: fill_diag_and_make_symmetric(v) for k, v in distances_dict_processed.items()}\n",
    "\n",
    "for k, v in distances_dict_processed_zeros_diag.items():\n",
    "    print(f'Non-zero count in {k:8}: {np.count_nonzero(v)}, on diag: {np.count_nonzero(np.diagonal(v)):4}, total {v.size}, symmetric {check_symmetric(v)}')"
   ]
  },
  {
   "cell_type": "code",
   "execution_count": 70,
   "metadata": {},
   "outputs": [
    {
     "name": "stdout",
     "output_type": "stream",
     "text": [
      "KG$_{1}$ & KG$_{1}$ & correlation & p-value & n \\\\\n",
      "hierachy   & glove      & 0.19 & 0.001 & 1000 \\\\\n",
      "hierachy   & wiki       & 0.18 & 0.001 & 1000 \\\\\n",
      "glove      & wiki       & 0.44 & 0.001 & 1000 \\\\\n"
     ]
    }
   ],
   "source": [
    "print(\"KG$_{1}$ & KG$_{1}$ & correlation & p-value & n \\\\\\\\\")\n",
    "for x, y in list(combinations(distances_dict_processed_zeros_diag.items(), 2)):\n",
    "    corr, p, n = mantel(x[1], y[1])\n",
    "    print(f\"{x[0]:10} & {y[0]:10} & {corr:.2f} & {p} & {n} \\\\\\\\\")"
   ]
  },
  {
   "cell_type": "markdown",
   "metadata": {},
   "source": [
    "Now that's an impressive correlation between glove and wikidata"
   ]
  },
  {
   "cell_type": "markdown",
   "metadata": {},
   "source": []
  },
  {
   "cell_type": "markdown",
   "metadata": {},
   "source": []
  }
 ],
 "metadata": {
  "kernelspec": {
   "display_name": "Python 3.9.7 ('base')",
   "language": "python",
   "name": "python3"
  },
  "language_info": {
   "codemirror_mode": {
    "name": "ipython",
    "version": 3
   },
   "file_extension": ".py",
   "mimetype": "text/x-python",
   "name": "python",
   "nbconvert_exporter": "python",
   "pygments_lexer": "ipython3",
   "version": "3.9.7"
  },
  "orig_nbformat": 4,
  "vscode": {
   "interpreter": {
    "hash": "40d3a090f54c6569ab1632332b64b2c03c39dcf918b08424e98f38b5ae0af88f"
   }
  }
 },
 "nbformat": 4,
 "nbformat_minor": 2
}

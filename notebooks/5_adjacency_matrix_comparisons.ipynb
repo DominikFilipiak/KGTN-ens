{
 "cells": [
  {
   "cell_type": "markdown",
   "metadata": {},
   "source": [
    "# Analysis of adjancency matrices"
   ]
  },
  {
   "cell_type": "code",
   "execution_count": 13,
   "metadata": {},
   "outputs": [],
   "source": [
    "import numpy as np\n",
    "\n",
    "KGTN_PATH = '/tf/KGTN2'"
   ]
  },
  {
   "cell_type": "code",
   "execution_count": 14,
   "metadata": {},
   "outputs": [],
   "source": [
    "distances_hierarchy = np.load(f'{KGTN_PATH}/KnowledgeGraphMatrix/HierarchyGraph.npy')\n",
    "distances_glove = np.load(f'{KGTN_PATH}/KnowledgeGraphMatrix/WikidataGraph.npy')\n",
    "distances_wikidata = np.load(f'{KGTN_PATH}/KnowledgeGraphMatrix/WikidataGraph.npy')"
   ]
  }
 ],
 "metadata": {
  "kernelspec": {
   "display_name": "Python 3",
   "name": "python3"
  },
  "language_info": {
   "codemirror_mode": {
    "name": "ipython",
    "version": 3
   },
   "file_extension": ".py",
   "mimetype": "text/x-python",
   "name": "python",
   "nbconvert_exporter": "python",
   "pygments_lexer": "ipython3",
   "version": "3.6.9"
  },
  "orig_nbformat": 4
 },
 "nbformat": 4,
 "nbformat_minor": 2
}
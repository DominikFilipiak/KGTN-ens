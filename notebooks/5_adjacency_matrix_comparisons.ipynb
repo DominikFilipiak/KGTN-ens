{
 "cells": [
  {
   "cell_type": "markdown",
   "metadata": {},
   "source": [
    "# Analysis of adjancency matrices"
   ]
  },
  {
   "cell_type": "code",
   "execution_count": 4,
   "metadata": {},
   "outputs": [
    {
     "name": "stdout",
     "output_type": "stream",
     "text": [
      "Collecting scikit-bio\n",
      "  Downloading scikit-bio-0.5.6.tar.gz (8.4 MB)\n",
      "\u001b[K     |████████████████████████████████| 8.4 MB 2.8 MB/s eta 0:00:01\n",
      "\u001b[?25hRequirement already satisfied: decorator>=3.4.2 in /usr/local/lib/python3.6/dist-packages (from scikit-bio) (5.0.9)\n",
      "Requirement already satisfied: IPython>=3.2.0 in /usr/local/lib/python3.6/dist-packages (from scikit-bio) (7.16.1)\n",
      "Requirement already satisfied: matplotlib>=1.4.3 in /usr/local/lib/python3.6/dist-packages (from scikit-bio) (3.3.4)\n",
      "Requirement already satisfied: numpy>=1.9.2 in /usr/local/lib/python3.6/dist-packages (from scikit-bio) (1.18.5)\n",
      "Requirement already satisfied: pandas>=1.0.0 in /usr/local/lib/python3.6/dist-packages (from scikit-bio) (1.1.5)\n",
      "Collecting CacheControl>=0.11.5\n",
      "  Downloading CacheControl-0.12.10-py2.py3-none-any.whl (20 kB)\n",
      "Requirement already satisfied: requests in /usr/local/lib/python3.6/dist-packages (from CacheControl>=0.11.5->scikit-bio) (2.25.0)\n",
      "Collecting hdmedians>=0.13\n",
      "  Downloading hdmedians-0.14.2.tar.gz (7.6 kB)\n",
      "  Installing build dependencies ... \u001b[?25ldone\n",
      "\u001b[?25h  Getting requirements to build wheel ... \u001b[?25ldone\n",
      "\u001b[?25h  Installing backend dependencies ... \u001b[?25ldone\n",
      "\u001b[?25h    Preparing wheel metadata ... \u001b[?25ldone\n",
      "\u001b[?25hRequirement already satisfied: numpy>=1.9.2 in /usr/local/lib/python3.6/dist-packages (from scikit-bio) (1.18.5)\n",
      "Collecting Cython>=0.23\n",
      "  Using cached Cython-0.29.28-cp36-cp36m-manylinux_2_17_x86_64.manylinux2014_x86_64.manylinux_2_24_x86_64.whl (1.9 MB)\n",
      "Requirement already satisfied: decorator>=3.4.2 in /usr/local/lib/python3.6/dist-packages (from scikit-bio) (5.0.9)\n",
      "Requirement already satisfied: setuptools>=18.5 in /usr/local/lib/python3.6/dist-packages (from IPython>=3.2.0->scikit-bio) (50.3.2)\n",
      "Requirement already satisfied: pygments in /usr/local/lib/python3.6/dist-packages (from IPython>=3.2.0->scikit-bio) (2.9.0)\n",
      "Requirement already satisfied: prompt-toolkit!=3.0.0,!=3.0.1,<3.1.0,>=2.0.0 in /usr/local/lib/python3.6/dist-packages (from IPython>=3.2.0->scikit-bio) (3.0.18)\n",
      "Requirement already satisfied: traitlets>=4.2 in /usr/local/lib/python3.6/dist-packages (from IPython>=3.2.0->scikit-bio) (4.3.3)\n",
      "Requirement already satisfied: pexpect in /usr/local/lib/python3.6/dist-packages (from IPython>=3.2.0->scikit-bio) (4.8.0)\n",
      "Requirement already satisfied: backcall in /usr/local/lib/python3.6/dist-packages (from IPython>=3.2.0->scikit-bio) (0.2.0)\n",
      "Requirement already satisfied: jedi>=0.10 in /usr/local/lib/python3.6/dist-packages (from IPython>=3.2.0->scikit-bio) (0.18.0)\n",
      "Requirement already satisfied: pickleshare in /usr/local/lib/python3.6/dist-packages (from IPython>=3.2.0->scikit-bio) (0.7.5)\n",
      "Requirement already satisfied: parso<0.9.0,>=0.8.0 in /usr/local/lib/python3.6/dist-packages (from jedi>=0.10->IPython>=3.2.0->scikit-bio) (0.8.2)\n",
      "Collecting lockfile>=0.10.2\n",
      "  Downloading lockfile-0.12.2-py2.py3-none-any.whl (13 kB)\n",
      "Requirement already satisfied: kiwisolver>=1.0.1 in /usr/local/lib/python3.6/dist-packages (from matplotlib>=1.4.3->scikit-bio) (1.3.1)\n",
      "Requirement already satisfied: cycler>=0.10 in /usr/local/lib/python3.6/dist-packages (from matplotlib>=1.4.3->scikit-bio) (0.10.0)\n",
      "Requirement already satisfied: numpy>=1.9.2 in /usr/local/lib/python3.6/dist-packages (from scikit-bio) (1.18.5)\n",
      "Requirement already satisfied: python-dateutil>=2.1 in /usr/local/lib/python3.6/dist-packages (from matplotlib>=1.4.3->scikit-bio) (2.8.1)\n",
      "Requirement already satisfied: pyparsing!=2.0.4,!=2.1.2,!=2.1.6,>=2.0.3 in /usr/local/lib/python3.6/dist-packages (from matplotlib>=1.4.3->scikit-bio) (2.4.7)\n",
      "Requirement already satisfied: pillow>=6.2.0 in /usr/local/lib/python3.6/dist-packages (from matplotlib>=1.4.3->scikit-bio) (8.2.0)\n",
      "Requirement already satisfied: six in /usr/local/lib/python3.6/dist-packages (from cycler>=0.10->matplotlib>=1.4.3->scikit-bio) (1.15.0)\n",
      "Collecting msgpack>=0.5.2\n",
      "  Downloading msgpack-1.0.3-cp36-cp36m-manylinux_2_17_x86_64.manylinux2014_x86_64.whl (299 kB)\n",
      "\u001b[K     |████████████████████████████████| 299 kB 32.2 MB/s eta 0:00:01\n",
      "\u001b[?25hCollecting natsort>=4.0.3\n",
      "  Downloading natsort-8.1.0-py3-none-any.whl (37 kB)\n",
      "Requirement already satisfied: pytz>=2017.2 in /usr/local/lib/python3.6/dist-packages (from pandas>=1.0.0->scikit-bio) (2021.3)\n",
      "Requirement already satisfied: numpy>=1.9.2 in /usr/local/lib/python3.6/dist-packages (from scikit-bio) (1.18.5)\n",
      "Requirement already satisfied: python-dateutil>=2.1 in /usr/local/lib/python3.6/dist-packages (from matplotlib>=1.4.3->scikit-bio) (2.8.1)\n",
      "Requirement already satisfied: ptyprocess>=0.5 in /usr/local/lib/python3.6/dist-packages (from pexpect->IPython>=3.2.0->scikit-bio) (0.7.0)\n",
      "Requirement already satisfied: wcwidth in /usr/local/lib/python3.6/dist-packages (from prompt-toolkit!=3.0.0,!=3.0.1,<3.1.0,>=2.0.0->IPython>=3.2.0->scikit-bio) (0.2.5)\n",
      "Requirement already satisfied: six in /usr/local/lib/python3.6/dist-packages (from cycler>=0.10->matplotlib>=1.4.3->scikit-bio) (1.15.0)\n",
      "Requirement already satisfied: certifi>=2017.4.17 in /usr/local/lib/python3.6/dist-packages (from requests->CacheControl>=0.11.5->scikit-bio) (2020.12.5)\n",
      "Requirement already satisfied: urllib3<1.27,>=1.21.1 in /usr/local/lib/python3.6/dist-packages (from requests->CacheControl>=0.11.5->scikit-bio) (1.26.2)\n",
      "Requirement already satisfied: idna<3,>=2.5 in /usr/lib/python3/dist-packages (from requests->CacheControl>=0.11.5->scikit-bio) (2.6)\n",
      "Requirement already satisfied: chardet<4,>=3.0.2 in /usr/local/lib/python3.6/dist-packages (from requests->CacheControl>=0.11.5->scikit-bio) (3.0.4)\n",
      "Collecting scikit-learn>=0.19.1\n",
      "  Downloading scikit_learn-0.24.2-cp36-cp36m-manylinux2010_x86_64.whl (22.2 MB)\n",
      "\u001b[K     |████████████████████████████████| 22.2 MB 32.1 MB/s eta 0:00:01\n",
      "\u001b[?25hRequirement already satisfied: numpy>=1.9.2 in /usr/local/lib/python3.6/dist-packages (from scikit-bio) (1.18.5)\n",
      "Collecting joblib>=0.11\n",
      "  Downloading joblib-1.1.0-py2.py3-none-any.whl (306 kB)\n",
      "\u001b[K     |████████████████████████████████| 306 kB 31.8 MB/s eta 0:00:01\n",
      "\u001b[?25hCollecting scipy>=1.3.0\n",
      "  Downloading scipy-1.5.4-cp36-cp36m-manylinux1_x86_64.whl (25.9 MB)\n",
      "\u001b[K     |████████████████████████████████| 25.9 MB 33.0 MB/s eta 0:00:01\n",
      "\u001b[?25hRequirement already satisfied: numpy>=1.9.2 in /usr/local/lib/python3.6/dist-packages (from scikit-bio) (1.18.5)\n",
      "Collecting threadpoolctl>=2.0.0\n",
      "  Downloading threadpoolctl-3.1.0-py3-none-any.whl (14 kB)\n",
      "Requirement already satisfied: decorator>=3.4.2 in /usr/local/lib/python3.6/dist-packages (from scikit-bio) (5.0.9)\n",
      "Requirement already satisfied: six in /usr/local/lib/python3.6/dist-packages (from cycler>=0.10->matplotlib>=1.4.3->scikit-bio) (1.15.0)\n",
      "Requirement already satisfied: ipython-genutils in /usr/local/lib/python3.6/dist-packages (from traitlets>=4.2->IPython>=3.2.0->scikit-bio) (0.2.0)\n",
      "Building wheels for collected packages: scikit-bio, hdmedians\n",
      "  Building wheel for scikit-bio (setup.py) ... \u001b[?25ldone\n",
      "\u001b[?25h  Created wheel for scikit-bio: filename=scikit_bio-0.5.6-cp36-cp36m-linux_x86_64.whl size=1456628 sha256=63f6176fbe2bbd4c992162877405d8193bd5af6c93bcaa14e07ea8eb68a59c12\n",
      "  Stored in directory: /root/.cache/pip/wheels/d1/ef/c5/902dc81a1a2f66c9ad04004705878c72db9eefbc89b72f5004\n",
      "  Building wheel for hdmedians (PEP 517) ... \u001b[?25ldone\n",
      "\u001b[?25h  Created wheel for hdmedians: filename=hdmedians-0.14.2-cp36-cp36m-linux_x86_64.whl size=452580 sha256=72ebf05a67495c307e892ffd4227b8e66a0daa9187367a14c37ce6cf73560788\n",
      "  Stored in directory: /root/.cache/pip/wheels/a0/ce/77/2122c852dc717f3e90bba4efd906a61ed5ca3e23464341c8e5\n",
      "Successfully built scikit-bio hdmedians\n",
      "Installing collected packages: threadpoolctl, scipy, msgpack, joblib, Cython, scikit-learn, natsort, lockfile, hdmedians, CacheControl, scikit-bio\n",
      "Successfully installed CacheControl-0.12.10 Cython-0.29.28 hdmedians-0.14.2 joblib-1.1.0 lockfile-0.12.2 msgpack-1.0.3 natsort-8.1.0 scikit-bio-0.5.6 scikit-learn-0.24.2 scipy-1.5.4 threadpoolctl-3.1.0\n",
      "\u001b[33mWARNING: You are using pip version 20.3.1; however, version 21.3.1 is available.\n",
      "You should consider upgrading via the '/usr/bin/python3 -m pip install --upgrade pip' command.\u001b[0m\n"
     ]
    }
   ],
   "source": [
    "!pip install scikit-bio"
   ]
  },
  {
   "cell_type": "code",
   "execution_count": 2,
   "metadata": {},
   "outputs": [
    {
     "ename": "ModuleNotFoundError",
     "evalue": "No module named 'skbio'",
     "output_type": "error",
     "traceback": [
      "\u001b[0;31m---------------------------------------------------------------------------\u001b[0m",
      "\u001b[0;31mModuleNotFoundError\u001b[0m                       Traceback (most recent call last)",
      "\u001b[0;32m<ipython-input-2-4c3e614f4920>\u001b[0m in \u001b[0;36m<module>\u001b[0;34m\u001b[0m\n\u001b[1;32m      2\u001b[0m \u001b[0;32mimport\u001b[0m \u001b[0mjson\u001b[0m\u001b[0;34m\u001b[0m\u001b[0;34m\u001b[0m\u001b[0m\n\u001b[1;32m      3\u001b[0m \u001b[0;32mimport\u001b[0m \u001b[0mmatplotlib\u001b[0m\u001b[0;34m.\u001b[0m\u001b[0mpyplot\u001b[0m \u001b[0;32mas\u001b[0m \u001b[0mplt\u001b[0m\u001b[0;34m\u001b[0m\u001b[0;34m\u001b[0m\u001b[0m\n\u001b[0;32m----> 4\u001b[0;31m \u001b[0;32mfrom\u001b[0m \u001b[0mskbio\u001b[0m\u001b[0;34m.\u001b[0m\u001b[0mstats\u001b[0m\u001b[0;34m.\u001b[0m\u001b[0mdistance\u001b[0m \u001b[0;32mimport\u001b[0m \u001b[0mmantel\u001b[0m\u001b[0;34m\u001b[0m\u001b[0;34m\u001b[0m\u001b[0m\n\u001b[0m\u001b[1;32m      5\u001b[0m \u001b[0;32mfrom\u001b[0m \u001b[0mitertools\u001b[0m \u001b[0;32mimport\u001b[0m \u001b[0mcombinations\u001b[0m\u001b[0;34m\u001b[0m\u001b[0;34m\u001b[0m\u001b[0m\n\u001b[1;32m      6\u001b[0m \u001b[0;34m\u001b[0m\u001b[0m\n",
      "\u001b[0;31mModuleNotFoundError\u001b[0m: No module named 'skbio'"
     ]
    }
   ],
   "source": [
    "import numpy as np\n",
    "import json\n",
    "import matplotlib.pyplot as plt\n",
    "from skbio.stats.distance import mantel\n",
    "from itertools import combinations\n",
    "\n",
    "plt.style.use('dark_background')\n",
    "\n",
    "KGTN_PATH = '/tf/KGTN2'"
   ]
  },
  {
   "cell_type": "markdown",
   "metadata": {},
   "source": [
    "## Adjacency matrices as-is"
   ]
  },
  {
   "cell_type": "code",
   "execution_count": 2,
   "metadata": {},
   "outputs": [],
   "source": [
    "distances_hierarchy = np.load(f'{KGTN_PATH}/KnowledgeGraphMatrix/HierarchyGraph.npy')\n",
    "distances_glove = np.load(f'{KGTN_PATH}/KnowledgeGraphMatrix/SemanticGraph.npy')\n",
    "distances_wikidata = np.load(f'{KGTN_PATH}/KnowledgeGraphMatrix/WikidataGraph.npy')\n",
    "\n",
    "distances_dict = {\n",
    "    'hierachy': distances_hierarchy,\n",
    "    'glove': distances_glove,\n",
    "    'wikidata': distances_wikidata,\n",
    "}"
   ]
  },
  {
   "cell_type": "markdown",
   "metadata": {},
   "source": [
    "Basic descriptive statistics"
   ]
  },
  {
   "cell_type": "code",
   "execution_count": 3,
   "metadata": {},
   "outputs": [
    {
     "name": "stdout",
     "output_type": "stream",
     "text": [
      "hierachy   Min: 0.00   Avg: 9.76   Max: 10.00   Std: 1.20\n",
      "glove      Min: 0.00   Avg: 8.52   Max: 14.31   Std: 1.29\n",
      "wikidata   Min: 0.00   Avg: 5.82   Max: 12.73   Std: 1.32\n"
     ]
    }
   ],
   "source": [
    "for k, v in distances_dict.items():\n",
    "    print(f\"{k:10} Min: {v.min():3.2f}   Avg: {v.mean():3.2f}   Max: {v.max():3.2f}   Std: {v.std():3.2f}\")"
   ]
  },
  {
   "cell_type": "markdown",
   "metadata": {},
   "source": [
    "Plots of lower triangles of distances matrices (excluding zeros) - in nominal and log scale."
   ]
  },
  {
   "cell_type": "code",
   "execution_count": 4,
   "metadata": {},
   "outputs": [
    {
     "data": {
      "image/png": "[encoded data removed]",
      "text/plain": [
       "<Figure size 1440x720 with 6 Axes>"
      ]
     },
     "metadata": {},
     "output_type": "display_data"
    }
   ],
   "source": [
    "def plot_distinance_distribution(ax, k, v, log_scale=False):\n",
    "    lower_triangle_flattened = np.tril(v).flatten()\n",
    "    ax.hist(lower_triangle_flattened[lower_triangle_flattened.nonzero()[0]], bins=100)\n",
    "    if log_scale:\n",
    "        ax.set_yscale('log')\n",
    "        ax.set_ylim(1, 1e6)\n",
    "    else:\n",
    "        ax.set_title(f\"Distance matrix: {k}\")\n",
    "        # ax.set_ylim(0, 1e5)\n",
    "\n",
    "fig, axs = plt.subplots(2, 3, figsize=(20, 10))\n",
    "\n",
    "for i, (k, v) in enumerate(distances_dict.items()):\n",
    "    plot_distinance_distribution(axs[0, i], k, v, log_scale=False)\n",
    "    plot_distinance_distribution(axs[1, i], k, v, log_scale=True)\n",
    "\n",
    "fig.show()    "
   ]
  },
  {
   "cell_type": "markdown",
   "metadata": {},
   "source": [
    "Mantel test for distance matrices correlations. Mantel test requires zeros on diagonal."
   ]
  },
  {
   "cell_type": "code",
   "execution_count": 47,
   "metadata": {},
   "outputs": [
    {
     "name": "stdout",
     "output_type": "stream",
     "text": [
      "Non-zero count in hierachy: 999000, on diag:    0, total 1000000\n",
      "Non-zero count in glove   : 998996, on diag:    0, total 1000000\n",
      "Non-zero count in wikidata: 999000, on diag:    0, total 1000000\n"
     ]
    }
   ],
   "source": [
    "for k, v in distances_dict.items():\n",
    "    print(f'Non-zero count in {k:8}: {np.count_nonzero(v)}, on diag: {np.count_nonzero(np.diagonal(v)):4}, total {v.size}')"
   ]
  },
  {
   "cell_type": "code",
   "execution_count": 5,
   "metadata": {},
   "outputs": [
    {
     "name": "stdout",
     "output_type": "stream",
     "text": [
      "hierachy   glove       corr: 0.14  p: 0.001  n: 1000\n",
      "hierachy   wikidata    corr: 0.13  p: 0.001  n: 1000\n",
      "glove      wikidata    corr: 0.16  p: 0.001  n: 1000\n"
     ]
    }
   ],
   "source": [
    "for x, y in list(combinations(distances_dict.items(), 2)):\n",
    "    corr, p, n = mantel(x[1], y[1])\n",
    "    print(f\"{x[0]:10} {y[0]:10}  corr: {corr:.2f}  p: {p}  n: {n}\")"
   ]
  },
  {
   "cell_type": "markdown",
   "metadata": {},
   "source": [
    "## Transformations from `utils.py`"
   ]
  },
  {
   "cell_type": "code",
   "execution_count": 26,
   "metadata": {},
   "outputs": [],
   "source": [
    "NUM_VALID=196+300+311\n",
    "coefficient_glove = .4\n",
    "coefficient_hierarchy = .5\n",
    "\n",
    "kg_ratio = 100\n",
    "use_all_base = True\n",
    "label_idx_file = f\"{KGTN_PATH}/DataSplit/KGTN/label_idx.json\"\n",
    "testsetup = 1\n",
    "\n",
    "def get_ignore_ind(testsetup = 1, use_all_base = use_all_base, label_idx_file = label_idx_file):\n",
    "    with open(label_idx_file, 'r') as f:\n",
    "        lowshotmeta = json.load(f)\n",
    "    novel_classes = lowshotmeta['novel_classes_1']\n",
    "    novel2_classes = lowshotmeta['novel_classes_2']\n",
    "    base_classes = lowshotmeta['base_classes_1']\n",
    "    base2_classes = lowshotmeta['base_classes_2']\n",
    "    if testsetup:\n",
    "        if use_all_base:\n",
    "            ignore_ind = novel_classes \n",
    "            valid_nodes = novel2_classes + base2_classes + base_classes\n",
    "        else:\n",
    "            ignore_ind = novel_classes + base_classes\n",
    "            valid_nodes = novel2_classes + base2_classes\n",
    "    else:\n",
    "        if use_all_base:\n",
    "            ignore_ind = novel2_classes\n",
    "            valid_nodes = novel_classes + base2_classes + base_classes\n",
    "        else:\n",
    "            ignore_ind = novel2_classes + base2_classes\n",
    "            valid_nodes = novel_classes + base_classes\n",
    "    return ignore_ind, valid_nodes\n",
    "\n",
    "\n",
    "def process_semantic(mat, coefficient, kg_ratio):\n",
    "    ignore_ind, _ = get_ignore_ind()\n",
    "    num_classes = mat.shape[0]\n",
    "    mat[range(num_classes), range(num_classes)] = 999\n",
    "    min_mat = np.min(mat, 1) \n",
    "    mat = mat - min_mat.reshape(-1, 1) + 1\n",
    "\n",
    "    in_matrix = coefficient ** (mat - 1)\n",
    "    in_matrix[:, ignore_ind] = 0\n",
    "    in_matrix[ignore_ind, :] = 0\n",
    "    in_matrix[range(num_classes), range(num_classes)] = 2\n",
    "        \n",
    "    # in the ascent order\n",
    "    topk = int(NUM_VALID * kg_ratio / 100)\n",
    "    max_ = -np.sort(-in_matrix, 1)\n",
    "    edge = max_[:, topk].reshape(-1, 1)\n",
    "    in_matrix[in_matrix < edge] = 0\n",
    "\n",
    "    return in_matrix\n",
    "\n",
    "\n",
    "def process_wordnet(mat, coefficient, kg_ratio):\n",
    "    ignore_ind, _ = get_ignore_ind()\n",
    "    num_classes = mat.shape[0]\n",
    "    in_matrix = coefficient ** (mat - 1)\n",
    "    in_matrix[range(num_classes), range(num_classes)] = 2\n",
    "    in_matrix[ignore_ind, :] = 0\n",
    "    in_matrix[:, ignore_ind] = 0\n",
    "    # in the ascent order\n",
    "    topk = int(NUM_VALID * kg_ratio / 100)\n",
    "    max_ = -np.sort(-in_matrix, 1)\n",
    "    edge = max_[:, topk].reshape(-1, 1)\n",
    "    in_matrix[in_matrix < edge] = 0\n",
    "    return in_matrix\n",
    "\n",
    "distances_dict_processed = {\n",
    "    'hierachy': process_wordnet(np.copy(distances_hierarchy), coefficient=coefficient_hierarchy, kg_ratio=kg_ratio),\n",
    "    'glove': process_semantic(np.copy(distances_glove), coefficient=coefficient_glove, kg_ratio=kg_ratio),\n",
    "    'wikidata': process_semantic(np.copy(distances_wikidata), coefficient=.31, kg_ratio=kg_ratio),\n",
    "}\n"
   ]
  },
  {
   "cell_type": "code",
   "execution_count": 27,
   "metadata": {},
   "outputs": [
    {
     "name": "stdout",
     "output_type": "stream",
     "text": [
      "hierachy   Min: 0.00   Avg: 0.01   Max: 2.00   Std: 0.07\n",
      "glove      Min: 0.00   Avg: 0.05   Max: 2.00   Std: 0.11\n",
      "wikidata   Min: 0.00   Avg: 0.07   Max: 2.00   Std: 0.14\n"
     ]
    }
   ],
   "source": [
    "for k, v in distances_dict_processed.items():\n",
    "    print(f\"{k:10} Min: {v.min():3.2f}   Avg: {v.mean():3.2f}   Max: {v.max():3.2f}   Std: {v.std():3.2f}\")"
   ]
  },
  {
   "cell_type": "markdown",
   "metadata": {},
   "source": [
    "With coefficient $=.3$, glove and wikidata distributions resemble themselves"
   ]
  },
  {
   "cell_type": "code",
   "execution_count": 31,
   "metadata": {},
   "outputs": [
    {
     "data": {
      "image/png": "[encoded data removed]",
      "text/plain": [
       "<Figure size 1440x720 with 6 Axes>"
      ]
     },
     "metadata": {},
     "output_type": "display_data"
    }
   ],
   "source": [
    "fig, axs = plt.subplots(2, 3, figsize=(20, 10))\n",
    "\n",
    "for i, (k, v) in enumerate(distances_dict_processed.items()):\n",
    "    plot_distinance_distribution(axs[0, i], k, v, log_scale=False)\n",
    "    plot_distinance_distribution(axs[1, i], k, v, log_scale=True)"
   ]
  },
  {
   "cell_type": "markdown",
   "metadata": {},
   "source": [
    "There are non-zeros on diagonal, which won't go with Mantel test"
   ]
  },
  {
   "cell_type": "code",
   "execution_count": 32,
   "metadata": {},
   "outputs": [
    {
     "name": "stdout",
     "output_type": "stream",
     "text": [
      "Non-zero count in hierachy: 490000, on diag:  700, total 1000000\n",
      "Non-zero count in glove   : 490300, on diag: 1000, total 1000000\n",
      "Non-zero count in wikidata: 490300, on diag: 1000, total 1000000\n"
     ]
    }
   ],
   "source": [
    "for k, v in distances_dict_processed.items():\n",
    "    print(f'Non-zero count in {k:8}: {np.count_nonzero(v)}, on diag: {np.count_nonzero(np.diagonal(v)):4}, total {v.size}')"
   ]
  },
  {
   "cell_type": "markdown",
   "metadata": {},
   "source": [
    "Let's fill diagonal with zeros (is it allowed...?)\n",
    "\n",
    "We also copy upper traingle to lower as in [here](https://stackoverflow.com/questions/16444930/copy-upper-triangle-to-lower-triangle-in-a-python-matrix/42209263), since these matrices are not symmetric now"
   ]
  },
  {
   "cell_type": "code",
   "execution_count": 33,
   "metadata": {},
   "outputs": [
    {
     "name": "stdout",
     "output_type": "stream",
     "text": [
      "Non-zero count in hierachy: 489300, on diag:    0, total 1000000, symmetric True\n",
      "Non-zero count in glove   : 489300, on diag:    0, total 1000000, symmetric True\n",
      "Non-zero count in wikidata: 489300, on diag:    0, total 1000000, symmetric True\n"
     ]
    }
   ],
   "source": [
    "def fill_diagonal(copy, diagonal):\n",
    "    np.fill_diagonal(copy, diagonal)\n",
    "    return copy\n",
    "\n",
    "def check_symmetric(a, rtol=1e-05, atol=1e-08):\n",
    "    return np.allclose(a, a.T, rtol=rtol, atol=atol)\n",
    "\n",
    "def fill_diag_and_make_symmetric(source):\n",
    "    v = source.copy()\n",
    "    v = fill_diagonal(v, 0.)\n",
    "    i_lower = np.tril_indices(v.shape[0], -1)\n",
    "    v[i_lower] = v.T[i_lower]\n",
    "    return v\n",
    "\n",
    "distances_dict_processed_zeros_diag = {k: fill_diag_and_make_symmetric(v) for k, v in distances_dict_processed.items()}\n",
    "\n",
    "for k, v in distances_dict_processed_zeros_diag.items():\n",
    "    print(f'Non-zero count in {k:8}: {np.count_nonzero(v)}, on diag: {np.count_nonzero(np.diagonal(v)):4}, total {v.size}, symmetric {check_symmetric(v)}')"
   ]
  },
  {
   "cell_type": "code",
   "execution_count": 34,
   "metadata": {},
   "outputs": [
    {
     "name": "stdout",
     "output_type": "stream",
     "text": [
      "hierachy   glove       corr: 0.19  p: 0.001  n: 1000\n",
      "hierachy   wikidata    corr: 0.18  p: 0.001  n: 1000\n",
      "glove      wikidata    corr: 0.44  p: 0.001  n: 1000\n"
     ]
    }
   ],
   "source": [
    "for x, y in list(combinations(distances_dict_processed_zeros_diag.items(), 2)):\n",
    "    corr, p, n = mantel(x[1], y[1])\n",
    "    print(f\"{x[0]:10} {y[0]:10}  corr: {corr:.2f}  p: {p}  n: {n}\")"
   ]
  },
  {
   "cell_type": "markdown",
   "metadata": {},
   "source": [
    "Now that's an impressive correlation between glove and wikidata"
   ]
  },
  {
   "cell_type": "markdown",
   "metadata": {},
   "source": []
  },
  {
   "cell_type": "markdown",
   "metadata": {},
   "source": []
  }
 ],
 "metadata": {
  "kernelspec": {
   "display_name": "Python 3",
   "language": "python",
   "name": "python3"
  },
  "language_info": {
   "codemirror_mode": {
    "name": "ipython",
    "version": 3
   },
   "file_extension": ".py",
   "mimetype": "text/x-python",
   "name": "python",
   "nbconvert_exporter": "python",
   "pygments_lexer": "ipython3",
   "version": "3.6.9"
  },
  "orig_nbformat": 4
 },
 "nbformat": 4,
 "nbformat_minor": 2
}

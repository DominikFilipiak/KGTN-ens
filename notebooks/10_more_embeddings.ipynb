{
 "cells": [
  {
   "cell_type": "code",
   "execution_count": 1,
   "metadata": {},
   "outputs": [],
   "source": [
    "%matplotlib inline\n",
    "import numpy as np\n",
    "import json\n",
    "import matplotlib.pyplot as plt\n",
    "# from skbio.stats.distance import mantel\n",
    "from itertools import combinations\n",
    "import tikzplotlib\n",
    "\n",
    "plt.style.use('dark_background')\n",
    "\n",
    "BASE_DIR = '/Users/dfilipiak/repositories/publikacje/PUB-2021-OneShotKG'\n",
    "PROJECT_DIR = f'{BASE_DIR}/KGTN2'\n",
    "FIGURES_DIR = f'{BASE_DIR}/figures'"
   ]
  },
  {
   "cell_type": "code",
   "execution_count": 2,
   "metadata": {},
   "outputs": [],
   "source": [
    "distances_hierarchy = np.load(f'{PROJECT_DIR}/KnowledgeGraphMatrix/HierarchyGraph.npy')\n",
    "distances_glove = np.load(f'{PROJECT_DIR}/KnowledgeGraphMatrix/SemanticGraph.npy')\n",
    "distances_wikidata = np.load(f'{PROJECT_DIR}/KnowledgeGraphMatrix/WikidataGraph.npy').astype(np.float64)\n",
    "\n",
    "distances_dict = {\n",
    "    'hierachy': distances_hierarchy,\n",
    "    'glove': distances_glove,\n",
    "    'wiki': distances_wikidata,\n",
    "}"
   ]
  },
  {
   "cell_type": "code",
   "execution_count": 3,
   "metadata": {},
   "outputs": [
    {
     "name": "stdout",
     "output_type": "stream",
     "text": [
      " & Min & Avg & Max & Std \\\\\n",
      "hierachy   & 0.00 & 9.76 & 10.00 & 1.20 \\\\\n",
      "glove      & 0.00 & 8.52 & 14.31 & 1.29 \\\\\n",
      "wiki       & 0.00 & 5.82 & 12.73 & 1.32 \\\\\n"
     ]
    }
   ],
   "source": [
    "print(f\" & Min & Avg & Max & Std \\\\\\\\\")\n",
    "for k, v in distances_dict.items():\n",
    "    print(f\"{k:10} & {v.min():3.2f} & {v.mean():3.2f} & {v.max():3.2f} & {v.std():3.2f} \\\\\\\\\")"
   ]
  },
  {
   "cell_type": "code",
   "execution_count": 4,
   "metadata": {},
   "outputs": [],
   "source": [
    "NUM_VALID=196+300+311\n",
    "coefficient_glove = .4\n",
    "coefficient_hierarchy = .5\n",
    "\n",
    "kg_ratio = 100\n",
    "use_all_base = True\n",
    "label_idx_file = f\"{PROJECT_DIR}/DataSplit/KGTN/label_idx.json\"\n",
    "testsetup = 1\n",
    "\n",
    "def get_ignore_ind(testsetup = 1, use_all_base = use_all_base, label_idx_file = label_idx_file):\n",
    "    with open(label_idx_file, 'r') as f:\n",
    "        lowshotmeta = json.load(f)\n",
    "    novel_classes = lowshotmeta['novel_classes_1']\n",
    "    novel2_classes = lowshotmeta['novel_classes_2']\n",
    "    base_classes = lowshotmeta['base_classes_1']\n",
    "    base2_classes = lowshotmeta['base_classes_2']\n",
    "    if testsetup:\n",
    "        if use_all_base:\n",
    "            ignore_ind = novel_classes \n",
    "            valid_nodes = novel2_classes + base2_classes + base_classes\n",
    "        else:\n",
    "            ignore_ind = novel_classes + base_classes\n",
    "            valid_nodes = novel2_classes + base2_classes\n",
    "    else:\n",
    "        if use_all_base:\n",
    "            ignore_ind = novel2_classes\n",
    "            valid_nodes = novel_classes + base2_classes + base_classes\n",
    "        else:\n",
    "            ignore_ind = novel2_classes + base2_classes\n",
    "            valid_nodes = novel_classes + base_classes\n",
    "    return ignore_ind, valid_nodes\n",
    "\n",
    "\n",
    "def process_semantic(mat, coefficient, kg_ratio):\n",
    "    ignore_ind, _ = get_ignore_ind()\n",
    "    num_classes = mat.shape[0]\n",
    "    mat[range(num_classes), range(num_classes)] = 999\n",
    "    min_mat = np.min(mat, 1) \n",
    "    mat = mat - min_mat.reshape(-1, 1) + 1\n",
    "\n",
    "    in_matrix = coefficient ** (mat - 1)\n",
    "    in_matrix[:, ignore_ind] = 0\n",
    "    in_matrix[ignore_ind, :] = 0\n",
    "    in_matrix[range(num_classes), range(num_classes)] = 2\n",
    "        \n",
    "    # in the ascent order\n",
    "    topk = int(NUM_VALID * kg_ratio / 100)\n",
    "    max_ = -np.sort(-in_matrix, 1)\n",
    "    edge = max_[:, topk].reshape(-1, 1)\n",
    "    in_matrix[in_matrix < edge] = 0\n",
    "\n",
    "    return in_matrix\n",
    "\n",
    "\n",
    "def process_wordnet(mat, coefficient, kg_ratio):\n",
    "    ignore_ind, _ = get_ignore_ind()\n",
    "    num_classes = mat.shape[0]\n",
    "    in_matrix = coefficient ** (mat - 1)\n",
    "    in_matrix[range(num_classes), range(num_classes)] = 2\n",
    "    in_matrix[ignore_ind, :] = 0\n",
    "    in_matrix[:, ignore_ind] = 0\n",
    "    # in the ascent order\n",
    "    topk = int(NUM_VALID * kg_ratio / 100)\n",
    "    max_ = -np.sort(-in_matrix, 1)\n",
    "    edge = max_[:, topk].reshape(-1, 1)\n",
    "    in_matrix[in_matrix < edge] = 0\n",
    "    return in_matrix\n",
    "\n",
    "distances_dict_processed = {\n",
    "    'hierachy': process_wordnet(np.copy(distances_hierarchy), coefficient=coefficient_hierarchy, kg_ratio=kg_ratio),\n",
    "    'glove': process_semantic(np.copy(distances_glove), coefficient=coefficient_glove, kg_ratio=kg_ratio),\n",
    "    'wiki': process_semantic(np.copy(distances_wikidata), coefficient=.32, kg_ratio=kg_ratio),\n",
    "}\n"
   ]
  },
  {
   "cell_type": "code",
   "execution_count": 5,
   "metadata": {},
   "outputs": [
    {
     "name": "stdout",
     "output_type": "stream",
     "text": [
      " & Min & Avg & Max & Std \\\\\n",
      "hierachy   & 0.00 & 0.01 & 2.00 & 0.07 \\\\\n",
      "glove      & 0.00 & 0.05 & 2.00 & 0.11 \\\\\n",
      "wiki       & 0.00 & 0.08 & 2.00 & 0.14 \\\\\n"
     ]
    }
   ],
   "source": [
    "print(f\" & Min & Avg & Max & Std \\\\\\\\\")\n",
    "for k, v in distances_dict_processed.items():\n",
    "    print(f\"{k:10} & {v.min():3.2f} & {v.mean():3.2f} & {v.max():3.2f} & {v.std():3.2f} \\\\\\\\\")"
   ]
  },
  {
   "cell_type": "code",
   "execution_count": 8,
   "metadata": {},
   "outputs": [
    {
     "data": {
      "text/plain": [
       "(1000, 1000)"
      ]
     },
     "execution_count": 8,
     "metadata": {},
     "output_type": "execute_result"
    }
   ],
   "source": [
    "distances_dict_processed['glove'].shape"
   ]
  },
  {
   "cell_type": "code",
   "execution_count": null,
   "metadata": {},
   "outputs": [],
   "source": []
  }
 ],
 "metadata": {
  "kernelspec": {
   "display_name": "Python 3",
   "language": "python",
   "name": "python3"
  },
  "language_info": {
   "codemirror_mode": {
    "name": "ipython",
    "version": 3
   },
   "file_extension": ".py",
   "mimetype": "text/x-python",
   "name": "python",
   "nbconvert_exporter": "python",
   "pygments_lexer": "ipython3",
   "version": "3.8.13"
  },
  "orig_nbformat": 4
 },
 "nbformat": 4,
 "nbformat_minor": 2
}

{
 "cells": [
  {
   "cell_type": "code",
   "execution_count": 99,
   "metadata": {},
   "outputs": [],
   "source": [
    "import numpy as np\n",
    "from matplotlib.pyplot import imshow\n",
    "from PIL import Image\n",
    "import torch\n",
    "from torch.distributions import Categorical\n",
    "\n",
    "images_base_path = \"/Users/dfilipiak/repositories/publikacje/PUB-2021-OneShotKG/KGTN2/data/ILSVRC/Data/CLS-LOC\"\n",
    "base_path = \"/Users/dfilipiak/repositories/publikacje/PUB-2021-OneShotKG/KGTN2/results/entropy\"\n",
    "\n",
    "paths = [ f\"{base_path}/ResNet50_sgm-max-InnerProduct-{kgs}-{id}-1\" for kgs in (\"wiki,hierarchy,glove\", ) for id in (1, 2, 5, 10) ]"
   ]
  },
  {
   "cell_type": "code",
   "execution_count": 100,
   "metadata": {},
   "outputs": [
    {
     "name": "stdout",
     "output_type": "stream",
     "text": [
      "ResNet50_sgm-max-InnerProduct-wiki,hierarchy,glove-1-1\n",
      "ResNet50_sgm-max-InnerProduct-wiki,hierarchy,glove-2-1\n",
      "ResNet50_sgm-max-InnerProduct-wiki,hierarchy,glove-5-1\n",
      "ResNet50_sgm-max-InnerProduct-wiki,hierarchy,glove-10-1\n",
      "5.38 ($\\pm$1.36) & 5.37 ($\\pm$1.37) & 5.09 ($\\pm$1.55) & 5.08 ($\\pm$1.55) & 4.52 ($\\pm$1.83) & 4.52 ($\\pm$1.83) & 4.49 ($\\pm$1.82) & 4.48 ($\\pm$1.82)\n"
     ]
    }
   ],
   "source": [
    "results = []\n",
    "for p in paths:\n",
    "    \n",
    "    feats = torch.from_numpy(np.load(f\"{p}/features.npy\"))\n",
    "    weights = torch.from_numpy(np.load(f\"{p}/weights.npy\"))\n",
    "    ys = torch.from_numpy(np.load(f\"{p}/target.npy\"))\n",
    "    base_classes = torch.from_numpy(np.load(f\"{p}/base_classes.npy\")).tolist()\n",
    "    novel_classes = torch.from_numpy(np.load(f\"{p}/novel_classes.npy\")).tolist()\n",
    "\n",
    "    feats.shape, weights.shape, ys.shape, len(base_classes), len(novel_classes)\n",
    "\n",
    "    output = torch.matmul(weights, feats)\n",
    "    \n",
    "    entropy2_novel = Categorical(logits = output[:, novel_classes]).entropy()\n",
    "    entropy2 = Categorical(logits = output[:, base_classes + novel_classes]).entropy()\n",
    "    \n",
    "    en_mean_novel = entropy2_novel.mean(dim=0).mean().item()\n",
    "    en_std_novel = entropy2_novel.std(dim=0).mean().item()    \n",
    "    en_mean_all = entropy2.mean(dim=0).mean().item()\n",
    "    en_std_all = entropy2.std(dim=0).mean().item()\n",
    "\n",
    "    print(f'{p.rsplit(\"/\", 1)[-1]}')\n",
    "    results.append(f\"{en_mean_novel:.2f} ($\\pm${en_std_novel:.2f}) & {en_mean_all:.2f} ($\\pm${en_std_all:.2f})\")\n",
    "print(\" & \".join(results))\n",
    "    # print(f\"Entropy avg (mean over classes) on novel: {en_mean_novel:.2f}\")\n",
    "    # print(f\"Entropy std (mean over classes) ona novel: {en_std_novel:.2f}\")\n",
    "    # print(f\"Entropy avg (mean over classes) on all: {en_mean_all:.2f}\")\n",
    "    # print(f\"Entropy std (mean over classes) ona all: {en_std_all:.2f}\")"
   ]
  }
 ],
 "metadata": {
  "kernelspec": {
   "display_name": "Python 3",
   "language": "python",
   "name": "python3"
  },
  "language_info": {
   "codemirror_mode": {
    "name": "ipython",
    "version": 3
   },
   "file_extension": ".py",
   "mimetype": "text/x-python",
   "name": "python",
   "nbconvert_exporter": "python",
   "pygments_lexer": "ipython3",
   "version": "3.8.13"
  },
  "orig_nbformat": 4
 },
 "nbformat": 4,
 "nbformat_minor": 2
}

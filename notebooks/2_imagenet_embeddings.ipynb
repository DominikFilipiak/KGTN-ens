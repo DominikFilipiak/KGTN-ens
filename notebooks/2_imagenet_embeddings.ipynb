{
 "cells": [
  {
   "cell_type": "markdown",
   "metadata": {},
   "source": [
    "Having the mapping, now we create an embedding array, ordered as in the KGTN paper."
   ]
  },
  {
   "cell_type": "code",
   "execution_count": 74,
   "metadata": {},
   "outputs": [],
   "source": [
    "import json\n",
    "import numpy as np\n",
    "from collections import OrderedDict"
   ]
  },
  {
   "cell_type": "code",
   "execution_count": 46,
   "metadata": {},
   "outputs": [],
   "source": [
    "\n",
    "embeddings_path = '/data/wikidata_embeddings'\n",
    "kgtn_path = '/tf/KGTN2'\n",
    "\n",
    "with open(f'{embeddings_path}/wikidata_translation_v1_names.json') as f:\n",
    "  translation_names = json.load(f)\n",
    "\n",
    "with open(f'{kgtn_path}/KnowledgeGraphMatrix/mappings_wikidata.json') as f:\n",
    "  mapping = json.load(f)\n",
    "\n",
    "with open(f'{kgtn_path}/notebooks/data/entity_to_index_dict.json') as f:\n",
    "  entity_to_index_dict = json.load(f)\n",
    "\n",
    "embeddings = np.load(f'{embeddings_path}/wikidata_translation_v1_vectors.npy')"
   ]
  },
  {
   "cell_type": "code",
   "execution_count": 52,
   "metadata": {},
   "outputs": [],
   "source": [
    "with open(f'{kgtn_path}/DataSplit/KGTN/label_idx.json') as f:\n",
    "  label_idx = json.load(f)\n"
   ]
  },
  {
   "cell_type": "markdown",
   "metadata": {},
   "source": [
    "Assuming ImageNet label ordering as in `label_idx.json`"
   ]
  },
  {
   "cell_type": "code",
   "execution_count": 86,
   "metadata": {},
   "outputs": [
    {
     "data": {
      "text/plain": [
       "[('n01807496', 'http://www.wikidata.org/entity/Q732775'),\n",
       " ('n02916936', 'http://www.wikidata.org/entity/Q391752'),\n",
       " ('n03794056', 'http://www.wikidata.org/entity/Q658353'),\n",
       " ('n10565667', 'http://www.wikidata.org/entity/Q17504942'),\n",
       " ('n02978881', 'http://www.wikidata.org/entity/Q149757')]"
      ]
     },
     "execution_count": 86,
     "metadata": {},
     "output_type": "execute_result"
    }
   ],
   "source": [
    "mapping_ordered = OrderedDict(zip(label_idx['label_names'], range(1000)))\n",
    "\n",
    "for k in mapping.keys():\n",
    "    mapping_ordered[k] = mapping[k]\n",
    "\n",
    "list(mapping_ordered.items())[:5]"
   ]
  },
  {
   "cell_type": "code",
   "execution_count": 87,
   "metadata": {},
   "outputs": [
    {
     "data": {
      "text/plain": [
       "[('n01807496', 1619475),\n",
       " ('n02916936', 1758814),\n",
       " ('n03794056', 2292303),\n",
       " ('n10565667', 27197814),\n",
       " ('n02978881', 265345)]"
      ]
     },
     "execution_count": 87,
     "metadata": {},
     "output_type": "execute_result"
    }
   ],
   "source": [
    "wordnet_to_embedding_index = OrderedDict()\n",
    "\n",
    "for k, v in mapping_ordered.items():\n",
    "    wordnet_to_embedding_index[k] = entity_to_index_dict[v]\n",
    "\n",
    "list(wordnet_to_embedding_index.items())[:5]"
   ]
  },
  {
   "cell_type": "code",
   "execution_count": 89,
   "metadata": {},
   "outputs": [
    {
     "data": {
      "text/plain": [
       "[1619475, 1758814, 2292303, 27197814, 265345]"
      ]
     },
     "execution_count": 89,
     "metadata": {},
     "output_type": "execute_result"
    }
   ],
   "source": [
    "imagenet_indexes = list(wordnet_to_embedding_index.values())\n",
    "imagenet_indexes[:5]"
   ]
  },
  {
   "cell_type": "code",
   "execution_count": 90,
   "metadata": {},
   "outputs": [
    {
     "data": {
      "text/plain": [
       "(1000, 200)"
      ]
     },
     "execution_count": 90,
     "metadata": {},
     "output_type": "execute_result"
    }
   ],
   "source": [
    "embeddings_wikidata = embeddings[np.array(imagenet_indexes)]\n",
    "embeddings_wikidata.shape"
   ]
  },
  {
   "cell_type": "code",
   "execution_count": 93,
   "metadata": {},
   "outputs": [],
   "source": [
    "\n",
    "np.save(f'{kgtn_path}/notebooks/data/imagenet_wikidata_embeddings.npy', embeddings_wikidata)"
   ]
  }
 ],
 "metadata": {
  "kernelspec": {
   "display_name": "Python 3",
   "language": "python",
   "name": "python3"
  },
  "orig_nbformat": 2
 },
 "nbformat": 4,
 "nbformat_minor": 2
}

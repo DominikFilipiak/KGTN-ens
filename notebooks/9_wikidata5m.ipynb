{
 "cells": [
  {
   "cell_type": "code",
   "execution_count": 14,
   "metadata": {},
   "outputs": [],
   "source": [
    "import pickle\n",
    "from easydict import EasyDict\n",
    "import json\n",
    "\n",
    "with open(\"/data/wikidata5m/transe_wikidata5m.pkl\", \"rb\") as fin:\n",
    "    model = pickle.load(fin)\n",
    "entity2id = model.graph.entity2id\n",
    "relation2id = model.graph.relation2id\n",
    "entity_embeddings = model.solver.entity_embeddings\n",
    "relation_embeddings = model.solver.relation_embeddings"
   ]
  },
  {
   "cell_type": "code",
   "execution_count": 15,
   "metadata": {},
   "outputs": [],
   "source": [
    "kgtn_path = '/tf/KGTN2'\n",
    "\n",
    "with open(f'{kgtn_path}/KnowledgeGraphMatrix/mappings_wikidata.json') as f:\n",
    "  mapping = json.load(f)"
   ]
  },
  {
   "cell_type": "code",
   "execution_count": 20,
   "metadata": {},
   "outputs": [
    {
     "data": {
      "text/plain": [
       "1000"
      ]
     },
     "execution_count": 20,
     "metadata": {},
     "output_type": "execute_result"
    }
   ],
   "source": [
    "imagenet_wiki_items = [v.rsplit('/', 1)[-1] for v in mapping.values()]\n",
    "len(imagenet_wiki_items)"
   ]
  },
  {
   "cell_type": "code",
   "execution_count": 23,
   "metadata": {},
   "outputs": [
    {
     "data": {
      "text/plain": [
       "891"
      ]
     },
     "execution_count": 23,
     "metadata": {},
     "output_type": "execute_result"
    }
   ],
   "source": [
    "found = 0\n",
    "for iwi in imagenet_wiki_items:\n",
    "    if iwi in entity2id.keys():\n",
    "        found += 1\n",
    "\n",
    "found"
   ]
  },
  {
   "cell_type": "code",
   "execution_count": null,
   "metadata": {},
   "outputs": [],
   "source": [
    "import graphvite as gv\n",
    "alias2entity = gv.dataset.wikidata5m.alias2entity\n",
    "alias2relation = gv.dataset.wikidata5m.alias2relation\n",
    "print(entity_embeddings[entity2id[alias2entity[\"machine learning\"]]])\n",
    "print(relation_embeddings[relation2id[alias2relation[\"field of work\"]]]"
   ]
  },
  {
   "cell_type": "code",
   "execution_count": 10,
   "metadata": {},
   "outputs": [
    {
     "name": "stdout",
     "output_type": "stream",
     "text": [
      "/bin/sh: 1: codnda: not found\n"
     ]
    }
   ],
   "source": []
  },
  {
   "cell_type": "code",
   "execution_count": null,
   "metadata": {},
   "outputs": [],
   "source": []
  }
 ],
 "metadata": {
  "kernelspec": {
   "display_name": "Python 3",
   "language": "python",
   "name": "python3"
  },
  "orig_nbformat": 4
 },
 "nbformat": 4,
 "nbformat_minor": 2
}

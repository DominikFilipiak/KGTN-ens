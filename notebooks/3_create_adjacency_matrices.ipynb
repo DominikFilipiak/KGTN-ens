{
 "metadata": {
  "orig_nbformat": 2,
  "kernelspec": {
   "name": "python3",
   "display_name": "Python 3",
   "language": "python"
  }
 },
 "nbformat": 4,
 "nbformat_minor": 2,
 "cells": [
  {
   "source": [
    "Now we create adjacency matrices for KGTN."
   ],
   "cell_type": "markdown",
   "metadata": {}
  },
  {
   "cell_type": "code",
   "execution_count": 55,
   "metadata": {},
   "outputs": [],
   "source": [
    "import json\n",
    "import numpy as np\n",
    "from sklearn.metrics import pairwise_distances\n",
    "from sklearn.metrics.pairwise import cosine_similarity"
   ]
  },
  {
   "cell_type": "code",
   "execution_count": 4,
   "metadata": {},
   "outputs": [
    {
     "output_type": "execute_result",
     "data": {
      "text/plain": [
       "(1000, 200)"
      ]
     },
     "metadata": {},
     "execution_count": 4
    }
   ],
   "source": [
    "KGTN_PATH = '/tf/KGTN2'\n",
    "\n",
    "imagenet_embeddings = np.load(f'{KGTN_PATH}/notebooks/data/imagenet_wikidata_embeddings.npy')\n",
    "imagenet_embeddings.shape"
   ]
  },
  {
   "cell_type": "code",
   "execution_count": 74,
   "metadata": {},
   "outputs": [],
   "source": [
    "distances_euclidean = pairwise_distances(imagenet_embeddings)\n",
    "np.save(f'{KGTN_PATH}/KnowledgeGraphMatrix/WikidataGraph.npy', distances_euclidean)"
   ]
  }
 ]
}
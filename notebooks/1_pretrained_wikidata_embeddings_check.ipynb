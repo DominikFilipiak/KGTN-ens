{
 "metadata": {
  "orig_nbformat": 2,
  "kernelspec": {
   "name": "python3",
   "display_name": "Python 3",
   "language": "python"
  }
 },
 "nbformat": 4,
 "nbformat_minor": 2,
 "cells": [
  {
   "cell_type": "code",
   "execution_count": 6,
   "metadata": {},
   "outputs": [],
   "source": [
    "import json\n",
    "import numpy as np\n",
    "from fastprogress.fastprogress import progress_bar"
   ]
  },
  {
   "source": [
    "Download embedding names if needed, do the same with embeddings."
   ],
   "cell_type": "markdown",
   "metadata": {}
  },
  {
   "cell_type": "code",
   "execution_count": 2,
   "metadata": {},
   "outputs": [
    {
     "output_type": "execute_result",
     "data": {
      "text/plain": [
       "396856506"
      ]
     },
     "metadata": {},
     "execution_count": 2
    }
   ],
   "source": [
    "import requests\n",
    "\n",
    "embedding_keys_url = 'https://dl.fbaipublicfiles.com/torchbiggraph/wikidata_translation_v1_names.json.gz'\n",
    "r = requests.get(embedding_keys_url, allow_redirects=True)\n",
    "open('wikidata_translation_v1_names.json.gz', 'wb').write(r.content)"
   ]
  },
  {
   "source": [
    "\n",
    "embeddings_path = '/data/wikidata_embeddings'\n",
    "\n",
    "with open(f'{embeddings_path}/wikidata_translation_v1_names.json') as f:\n",
    "  translation_names = json.load(f)"
   ],
   "cell_type": "code",
   "metadata": {},
   "execution_count": 7,
   "outputs": []
  },
  {
   "cell_type": "code",
   "execution_count": 8,
   "metadata": {},
   "outputs": [],
   "source": [
    "embeddings = np.load(f'{embeddings_path}/wikidata_translation_v1_vectors.npy')"
   ]
  },
  {
   "cell_type": "code",
   "execution_count": 9,
   "metadata": {},
   "outputs": [],
   "source": [
    "with open('/tf/KGTN2/KnowledgeGraphMatrix/mappings_wikidata.json') as f:\n",
    "  mapping = json.load(f)"
   ]
  },
  {
   "cell_type": "code",
   "execution_count": 42,
   "metadata": {},
   "outputs": [
    {
     "output_type": "display_data",
     "data": {
      "text/plain": "<IPython.core.display.HTML object>",
      "text/html": "\n    <div>\n        <style>\n            /* Turns off some styling */\n            progress {\n                /* gets rid of default border in Firefox and Opera. */\n                border: none;\n                /* Needs to be in here for Safari polyfill so background images work as expected. */\n                background-size: auto;\n            }\n            .progress-bar-interrupted, .progress-bar-interrupted::-webkit-progress-bar {\n                background: #F44336;\n            }\n        </style>\n      <progress value='1000' class='' max='1000' style='width:300px; height:20px; vertical-align: middle;'></progress>\n      100.00% [1000/1000 01:24<00:00]\n    </div>\n    "
     },
     "metadata": {}
    }
   ],
   "source": [
    "def map_entity_to_index(entity, translation_names):\n",
    "    try: \n",
    "        return translation_names.index(f\"<{entity}>\")\n",
    "    except ValueError:\n",
    "        return -1\n",
    "\n",
    "entity_to_index_dict = {\n",
    "    entity[1]: map_entity_to_index(entity[1], translation_names)\n",
    "    for entity \n",
    "    in progress_bar(list(mapping.items()))}"
   ]
  },
  {
   "source": [
    "Save results to file"
   ],
   "cell_type": "markdown",
   "metadata": {}
  },
  {
   "cell_type": "code",
   "execution_count": 47,
   "metadata": {},
   "outputs": [],
   "source": [
    "with open('/tf/KGTN2/notebooks/data/entity_to_index_dict.json', 'w') as fp:\n",
    "    json.dump(entity_to_index_dict, fp)\n"
   ]
  },
  {
   "source": [
    "Find entities without an embedding and remove them"
   ],
   "cell_type": "markdown",
   "metadata": {}
  },
  {
   "cell_type": "code",
   "execution_count": 52,
   "metadata": {},
   "outputs": [
    {
     "output_type": "stream",
     "name": "stdout",
     "text": [
      "No embedding for http://www.wikidata.org/entity/Q1295201\nNo embedding for http://www.wikidata.org/entity/Q98957255\nNo embedding for http://www.wikidata.org/entity/Q89579852\n"
     ]
    }
   ],
   "source": [
    "valid_entity_to_index_dict = {} \n",
    "for k,v in entity_to_index_dict.items():\n",
    "    if v == -1:\n",
    "        print(f\"No embedding for {k}\")\n",
    "    else:\n",
    "        valid_entity_to_index_dict[k] = v\n"
   ]
  },
  {
   "cell_type": "code",
   "execution_count": 60,
   "metadata": {},
   "outputs": [
    {
     "output_type": "execute_result",
     "data": {
      "text/plain": [
       "(989, 200)"
      ]
     },
     "metadata": {},
     "execution_count": 60
    }
   ],
   "source": [
    "embeddings_wikidata = embeddings[np.array(list(valid_entity_to_index_dict.values()))]\n",
    "embeddings_wikidata.shape"
   ]
  },
  {
   "cell_type": "code",
   "execution_count": 62,
   "metadata": {},
   "outputs": [
    {
     "output_type": "execute_result",
     "data": {
      "text/plain": [
       "-2.2775"
      ]
     },
     "metadata": {},
     "execution_count": 62
    }
   ],
   "source": [
    "embeddings_wikidata.min()"
   ]
  },
  {
   "cell_type": "code",
   "execution_count": 30,
   "metadata": {},
   "outputs": [],
   "source": [
    "\n",
    "g_semantic = np.load('KGTN2/KnowledgeGraphMatrix/SemanticGraph.npy')\n",
    "g_hierarchy = np.load('KGTN2/KnowledgeGraphMatrix/HierarchyGraph.npy')"
   ]
  },
  {
   "cell_type": "code",
   "execution_count": 35,
   "metadata": {},
   "outputs": [
    {
     "output_type": "execute_result",
     "data": {
      "text/plain": [
       "9.763616"
      ]
     },
     "metadata": {},
     "execution_count": 35
    }
   ],
   "source": [
    "g2.mean()"
   ]
  },
  {
   "cell_type": "code",
   "execution_count": null,
   "metadata": {},
   "outputs": [],
   "source": []
  }
 ]
}